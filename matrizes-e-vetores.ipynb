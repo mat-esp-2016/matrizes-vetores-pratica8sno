{
 "cells": [
  {
   "cell_type": "markdown",
   "metadata": {},
   "source": [
    "# Matrizes e vetores"
   ]
  },
  {
   "cell_type": "markdown",
   "metadata": {},
   "source": [
    "## License\n",
    "\n",
    "All content can be freely used and adapted under the terms of the \n",
    "[Creative Commons Attribution 4.0 International License](http://creativecommons.org/licenses/by/4.0/).\n",
    "\n",
    "![Creative Commons License](https://i.creativecommons.org/l/by/4.0/88x31.png)"
   ]
  },
  {
   "cell_type": "markdown",
   "metadata": {},
   "source": [
    "## Representação de uma matriz\n",
    "\n",
    "Antes de podermos manipular matrizes e vetores no computador, precisamos de um jeito de armazená-los em variáveis.\n",
    "Para vetores, o candidato natural são **listas**.\n",
    "\n",
    "$$\n",
    "\\mathbf{v} = \\begin{bmatrix}1 \\\\ 2 \\\\ 3\\end{bmatrix}\n",
    "$$\n",
    "\n",
    "O vetor acima poderia ser representado em código como:\n",
    "\n"
   ]
  },
  {
   "cell_type": "code",
   "execution_count": 370,
   "metadata": {
    "collapsed": false
   },
   "outputs": [
    {
     "name": "stdout",
     "output_type": "stream",
     "text": [
      "[1, 2, 3]\n"
     ]
    }
   ],
   "source": [
    "v = [1, 2, 3]\n",
    "print(v)"
   ]
  },
  {
   "cell_type": "markdown",
   "metadata": {},
   "source": [
    "Uma matriz pode ser vista como um conjunto de vetores, ou um vetor de vetores. Cada vetor seria equivalente a uma linha da matriz:\n",
    "\n",
    "$$\n",
    "\\mathbf{A} =\n",
    "\\begin{bmatrix}\n",
    "1 & 2 & 3 \\\\\n",
    "4 & 5 & 6 \\\\\n",
    "7 & 8 & 9 \\\\\n",
    "\\end{bmatrix} =\n",
    "\\begin{bmatrix}\n",
    "[1 & 2 & 3] \\\\\n",
    "[4 & 5 & 6] \\\\\n",
    "[7 & 8 & 9] \\\\\n",
    "\\end{bmatrix}\n",
    "$$\n",
    "\n",
    "Logo, um jeito de representar uma matriz em Python é através de uma **lista de listas**:"
   ]
  },
  {
   "cell_type": "code",
   "execution_count": 371,
   "metadata": {
    "collapsed": false
   },
   "outputs": [
    {
     "name": "stdout",
     "output_type": "stream",
     "text": [
      "[[1, 2, 3], [4, 5, 6], [7, 8, 9]]\n"
     ]
    }
   ],
   "source": [
    "A = [[1, 2, 3], [4, 5, 6], [7, 8, 9]]\n",
    "print(A)"
   ]
  },
  {
   "cell_type": "markdown",
   "metadata": {},
   "source": [
    "O Python permite quebrar a linha quando o comando está entre `[` ou `(`:"
   ]
  },
  {
   "cell_type": "code",
   "execution_count": 372,
   "metadata": {
    "collapsed": false
   },
   "outputs": [
    {
     "name": "stdout",
     "output_type": "stream",
     "text": [
      "[[1, 2, 3], [4, 5, 6], [7, 8, 9]]\n"
     ]
    }
   ],
   "source": [
    "A = [[1, 2, 3],\n",
    "     [4, 5, 6],\n",
    "     [7, 8, 9]]\n",
    "print(A)"
   ]
  },
  {
   "cell_type": "markdown",
   "metadata": {},
   "source": [
    "*Note que o print acima imprime a matriz toda em uma única linha*.\n",
    "\n",
    "A matriz `A` é uma lista como qualquer outra. A única diferença é que **os elementos da lista são outras listas**. O elemnto `[0]` da lista `A` será a lista correspondente a primeira linha:"
   ]
  },
  {
   "cell_type": "code",
   "execution_count": 373,
   "metadata": {
    "collapsed": false
   },
   "outputs": [
    {
     "name": "stdout",
     "output_type": "stream",
     "text": [
      "[1, 2, 3]\n"
     ]
    }
   ],
   "source": [
    "print(A[0])"
   ]
  },
  {
   "cell_type": "markdown",
   "metadata": {},
   "source": [
    "Como `A[0]` é uma lista, podemos pegar os elementos dessa lista da mesma forma:"
   ]
  },
  {
   "cell_type": "code",
   "execution_count": 374,
   "metadata": {
    "collapsed": false
   },
   "outputs": [
    {
     "name": "stdout",
     "output_type": "stream",
     "text": [
      "1\n",
      "6\n"
     ]
    }
   ],
   "source": [
    "print(A[0][0])\n",
    "print(A[1][2])"
   ]
  },
  {
   "cell_type": "markdown",
   "metadata": {},
   "source": [
    "### Exemplo\n",
    "\n",
    "Queremos imprimir cada elemento da matriz `A` da seguinte forma:\n",
    "\n",
    "    1  2  3  \n",
    "    4  5  6  \n",
    "    7  8  9\n",
    "\n",
    "Podemos utilizar o `for` para pegar cada linha da matriz. Para cada linha da matriz, queremos imprimir o elemento. Quando terminarmos de imprimir a linha, vamos pular uma linha."
   ]
  },
  {
   "cell_type": "code",
   "execution_count": 375,
   "metadata": {
    "collapsed": false
   },
   "outputs": [
    {
     "name": "stdout",
     "output_type": "stream",
     "text": [
      "1  2  3  \n",
      "4  5  6  \n",
      "7  8  9  \n"
     ]
    }
   ],
   "source": [
    "for i in range(3): # Anda sobre as linhas\n",
    "    for j in range(3): # Anda sobre as colunas\n",
    "        print(A[i][j], ' ', end='') # end='' faz com que print não pule uma linha\n",
    "    print() # Imprime nada e pula uma linha "
   ]
  },
  {
   "cell_type": "markdown",
   "metadata": {},
   "source": [
    "## Somando matrizes\n",
    "\n",
    "A soma de duas matrizes produz uma matriz que terá a soma dos elementos correspondentes:\n",
    "\n",
    "$$\n",
    "\\begin{bmatrix}\n",
    "a & b & c \\\\\n",
    "d & e & f \\\\\n",
    "g & h & i \\\\\n",
    "\\end{bmatrix} +\n",
    "\\begin{bmatrix}\n",
    "j & l & m \\\\\n",
    "n & o & p \\\\\n",
    "q & r & s \\\\\n",
    "\\end{bmatrix} =\n",
    "\\begin{bmatrix}\n",
    "a + j & b + l & c + m \\\\\n",
    "d + n & e + o & f + p \\\\\n",
    "g + q & h + r & i + s \\\\\n",
    "\\end{bmatrix}\n",
    "$$\n",
    "\n",
    "De forma genérica, o $j$-ésimo elemento da $i$-ésima linha de uma matriz $\\mathbf{A}$ é $A_{ij}$.\n",
    "Se temos duas matrizes $\\mathbf{A}$ e $\\mathbf{B}$, a soma pode ser escrita como:\n",
    "\n",
    "$$\n",
    "C_{ij} = A_{ij} + B_{ij}\n",
    "$$"
   ]
  },
  {
   "cell_type": "markdown",
   "metadata": {},
   "source": [
    "## Tarefa\n",
    "\n",
    "Some as matrizes `A` e `B` definidas abaixo e guarde o resultado em uma matriz `C`. Imprima a matriz `C`.\n",
    "\n",
    "**Dicas**:\n",
    "\n",
    "* Você pode criar a matriz `C` antes ou durante a soma. Lembre-se que a matriz é uma lista e listas possuem o método `append`."
   ]
  },
  {
   "cell_type": "code",
   "execution_count": 376,
   "metadata": {
    "collapsed": true
   },
   "outputs": [],
   "source": [
    "A = [[1, 2, 3],\n",
    "     [4, 5, 6],\n",
    "     [7, 8, 9]]\n",
    "B = [[3, 4, 5],\n",
    "     [6, 7, 8],\n",
    "     [9, 10, 11]]\n",
    "nlin_a = 3\n",
    "nlin_b = 3\n",
    "ncol_a = 3\n",
    "ncol_b = 3\n"
   ]
  },
  {
   "cell_type": "code",
   "execution_count": 377,
   "metadata": {
    "collapsed": false
   },
   "outputs": [],
   "source": [
    "def somar(m1, m2): #definimos uma função para efetuar a soma das matrizes\n",
    "    matriz_soma = []\n",
    "    # Supondo que as duas matrizes possuem o mesmo tamanho\n",
    "    quant_linhas = len(m1) # Conta quantas linhas existem\n",
    "    quant_colunas = len(m1[0]) # Conta quantos elementos têm em uma linha\n",
    "    for i in range(quant_linhas):\n",
    "        # Cria uma nova linha na matriz_soma\n",
    "        matriz_soma.append([])\n",
    "        for j in range(quant_colunas):\n",
    "            # Somando os elementos que possuem o mesmo índice (por isso o for de j está dentro do for de i)\n",
    "            soma = m1[i][j] + m2[i][j]\n",
    "            matriz_soma[i].append(soma)\n",
    "    return matriz_soma"
   ]
  },
  {
   "cell_type": "code",
   "execution_count": 378,
   "metadata": {
    "collapsed": false
   },
   "outputs": [],
   "source": [
    "C = somar (A, B) #aplicamos a função nas matrizes que queriamos somar"
   ]
  },
  {
   "cell_type": "code",
   "execution_count": 379,
   "metadata": {
    "collapsed": false
   },
   "outputs": [
    {
     "name": "stdout",
     "output_type": "stream",
     "text": [
      "4  6  8  \n",
      "10  12  14  \n",
      "16  18  20  \n"
     ]
    }
   ],
   "source": [
    "for i in range(3):\n",
    "    for j in range(3):\n",
    "        print(C[i][j], ' ', end='')\n",
    "    print()"
   ]
  },
  {
   "cell_type": "markdown",
   "metadata": {},
   "source": [
    "### Resultado esperado\n",
    "\n",
    "Seu código deve imprimir exatamente:\n",
    "\n",
    "    4  6  8  \n",
    "    10  12  14  \n",
    "    16  18  20  "
   ]
  },
  {
   "cell_type": "markdown",
   "metadata": {},
   "source": [
    "## Multiplicando uma matriz por um vetor\n",
    "\n",
    "A multiplicação de uma matriz por um vetor é\n",
    "\n",
    "$$\n",
    "\\begin{bmatrix}\n",
    "a & b  \\\\\n",
    "c & d  \\\\\n",
    "\\end{bmatrix} \n",
    "\\begin{bmatrix}\n",
    "e \\\\\n",
    "f \\\\\n",
    "\\end{bmatrix} =\n",
    "\\begin{bmatrix}\n",
    "ae + bf \\\\\n",
    "ce + df \\\\\n",
    "\\end{bmatrix}\n",
    "$$\n",
    "\n",
    "Sendo o vetor $\\mathbf{u} = \\mathbf{A}\\mathbf{v}$, cada elemento $i$ de $\\mathbf{u}$ é \n",
    "\n",
    "\n",
    "$$\n",
    "u_i = \\sum\\limits_{k=1}^{N} A_{ik}v_k\n",
    "$$"
   ]
  },
  {
   "cell_type": "markdown",
   "metadata": {},
   "source": [
    "## Tarefa\n",
    "\n",
    "Faça a multiplicação da matriz pelo vetor definidos abaixo. Guarde o resultado em uma lista.\n",
    "\n",
    "**Dicas**"
   ]
  },
  {
   "cell_type": "code",
   "execution_count": 380,
   "metadata": {
    "collapsed": false
   },
   "outputs": [],
   "source": [
    "A = [[1, 2, 3, 4],\n",
    "     [4, 5, 6, 7],\n",
    "     [7, 8, 9, 10]]\n",
    "v = [12, 13, 14, 15]\n",
    "nlin = 3\n",
    "ncol = 4"
   ]
  },
  {
   "cell_type": "code",
   "execution_count": 381,
   "metadata": {
    "collapsed": true
   },
   "outputs": [],
   "source": [
    "def mult_vm(m1,v1):    #criamos uma função para fazer a multiplicação da matriz pelo vetor\n",
    "    n_linhas = len(m1) # Conta quantas linhas existem na matriz\n",
    "    resp = []          #criamos a lista, onde vai entrar nossa resposta\n",
    "    for i in range(n_linhas): #usamos for junto a range para fazer a operação pra cada elemento da linha\n",
    "        mult = 0        #consideramos que nossa operação começara do zero\n",
    "        n_colunas = len(m1[i]) \n",
    "        for j in range(n_colunas):\n",
    "        #usamos esse for dentro do outro para posicionar o elemento de acordo com a lina e coluna em que se encontra\n",
    "            mult = mult + v1[j] * m1[i][j] \n",
    "            #para que houvesse a soma dos elementos da mesma linha multiplicados pelo vetor criamos essa operação\n",
    "        resp.append(mult) #guardamos o resultado na lista\n",
    "    return resp"
   ]
  },
  {
   "cell_type": "code",
   "execution_count": 382,
   "metadata": {
    "collapsed": false
   },
   "outputs": [
    {
     "name": "stdout",
     "output_type": "stream",
     "text": [
      "[140, 302, 464]\n"
     ]
    }
   ],
   "source": [
    "C = mult_vm(A,v)\n",
    "print (C)\n"
   ]
  },
  {
   "cell_type": "markdown",
   "metadata": {},
   "source": [
    "### Resultado esperado\n",
    "\n",
    "O seu código deve imprimir exatamente:\n",
    "\n",
    "    [140, 302, 464]"
   ]
  },
  {
   "cell_type": "markdown",
   "metadata": {},
   "source": [
    "## Multiplicação de matrizes\n",
    "\n",
    "A multiplicação de matrizes é feita de forma diferente da soma. É mais fácil mostrar do que explicar:\n",
    "\n",
    "$$\n",
    "\\begin{bmatrix}\n",
    "a & b  \\\\\n",
    "c & d  \\\\\n",
    "\\end{bmatrix} \n",
    "\\begin{bmatrix}\n",
    "e & f \\\\\n",
    "g & h  \\\\\n",
    "\\end{bmatrix} =\n",
    "\\begin{bmatrix}\n",
    "ae + bg & af + bh  \\\\\n",
    "ce + dg & cf + dh  \\\\\n",
    "\\end{bmatrix}\n",
    "$$\n",
    "\n",
    "Sendo $\\mathbf{C} = \\mathbf{A}\\mathbf{B}$, cada elemento $ij$ de $\\mathbf{C}$ é \n",
    "\n",
    "\n",
    "$$\n",
    "C_{ij} = \\sum\\limits_{k=1}^{N} A_{ik}B_{kj}\n",
    "$$"
   ]
  },
  {
   "cell_type": "markdown",
   "metadata": {},
   "source": [
    "## Tarefa\n",
    "\n",
    "Faça a multiplicação das duas matrizes definidas abaixo. Guarde o resultado em uma matriz (lista de listas)."
   ]
  },
  {
   "cell_type": "code",
   "execution_count": 383,
   "metadata": {
    "collapsed": true
   },
   "outputs": [],
   "source": [
    "A = [[1, 2, 3, 4],\n",
    "     [4, 5, 6, 7],\n",
    "     [7, 8, 9, 10]]\n",
    "B = [[3, 4, 5],\n",
    "     [6, 7, 8],\n",
    "     [9, 10, 11],\n",
    "     [12, 13, 14]]\n",
    "nlin_a = 3\n",
    "nlin_b = 4\n",
    "ncol_a = 4\n",
    "ncol_b = 3"
   ]
  },
  {
   "cell_type": "code",
   "execution_count": 384,
   "metadata": {
    "collapsed": false
   },
   "outputs": [],
   "source": [
    "def mult_mm(m1,m2):    #definimos uma função para multiplicação de matrizes\n",
    "    linhas=len(m1)     #contamos o numero de linhas na matriz m1\n",
    "    colunas=len(m2[0]) #contamos o numero de colunas na matriz m2\n",
    "    C=[]               #criamos uma lista para colocar nossa resposta\n",
    "    for i in range(linhas): #usamos for com range para contar os elementos contidos na linha da matriz m1\n",
    "        C.append([])\n",
    "        for p in range(colunas): \n",
    "        #usamos este for com range dentro do anterior para identificar a linha e coluna de cada elemento da matriz m1\n",
    "            val = 0 #consideramos que nossa operação vai começar do zero\n",
    "            for k in range (len(m2)): \n",
    "#considerando que o numero de linhas deve ser igual ao da matriz m1 adicionamos esse for para contar o numero de colunas da matriz m2. \n",
    "                    val = val + m1[i][k]*m2[k][p] #usamos ets operação levando em conta que cada elemento c[i][j] da matriz resposta é a soma do elemtos  a[i][k] da mesma linha da matriz m1 com os elemtos b[k][j] da mesma coluna na matriz m2. \n",
    "            C[i].append(val)\n",
    "    return C "
   ]
  },
  {
   "cell_type": "code",
   "execution_count": 385,
   "metadata": {
    "collapsed": false
   },
   "outputs": [
    {
     "name": "stdout",
     "output_type": "stream",
     "text": [
      "90  100  110  \n",
      "180  202  224  \n",
      "270  304  338  \n"
     ]
    }
   ],
   "source": [
    "C = mult_mm(A,B)\n",
    "for i in range(3):\n",
    "    for j in range(3):\n",
    "        print(C[i][j], ' ', end='')\n",
    "    print()"
   ]
  },
  {
   "cell_type": "markdown",
   "metadata": {},
   "source": [
    "### Resultado esperado\n",
    "\n",
    "O seu código deve imprimir exatamente:\n",
    "\n",
    "    90  100  110  \n",
    "    180  202  224  \n",
    "    270  304  338  \n",
    "\n"
   ]
  },
  {
   "cell_type": "markdown",
   "metadata": {},
   "source": [
    "## Tarefa Bônus\n",
    "\n",
    "Calcule o produto $\\mathbf{A}^T\\mathbf{A}$ para a matriz $A$ definida abaixo. $\\mathbf{A}^T$ é a matriz transposta de $A$:\n",
    "\n",
    "$$\n",
    "\\mathbf{A} = \n",
    "\\begin{bmatrix}\n",
    "a & b & c \\\\\n",
    "d & e & f \\\\\n",
    "\\end{bmatrix}\n",
    "$$\n",
    "\n",
    "$$\n",
    "\\mathbf{A}^T = \n",
    "\\begin{bmatrix}\n",
    "a & d \\\\\n",
    "b & e \\\\\n",
    "c & f \\\\\n",
    "\\end{bmatrix}\n",
    "$$\n",
    "\n",
    "Ou seja, as linhas de $\\mathbf{A}$ são as colunas de $\\mathbf{A}^T$.\n"
   ]
  },
  {
   "cell_type": "code",
   "execution_count": 386,
   "metadata": {
    "collapsed": true
   },
   "outputs": [],
   "source": [
    "A = [[1, 2, 3, 4],\n",
    "     [4, 5, 6, 7],\n",
    "     [7, 8, 9, 10]]\n",
    "nlin = 3\n",
    "ncol = 4 "
   ]
  },
  {
   "cell_type": "code",
   "execution_count": 387,
   "metadata": {
    "collapsed": false
   },
   "outputs": [],
   "source": [
    "def mat_trans (M): #criamos uma função para fazer a matriz transposta\n",
    "    trans = []  #criamos uma lista para receber nossa resposta\n",
    "    for i in range(len(M[0])): #usamos este for com range para contar as colunas e usa-las para fazer a transposição\n",
    "        aux =[] #criamos uma lista auxiliar para ajudar na operação\n",
    "        for k in M: #usamos este for para utlizar cada elemento dentro da matriz\n",
    "            aux.append(k[i]) \n",
    "    #adicionou os elementos de acordo com as linhas na lista auxiiar (correspondentes a coluna da matriz original)\n",
    "        trans.append(aux) #adicionamos a lista na matriz para obter a posição na linha e coluna pra cada elemento.\n",
    "   \n",
    "    return trans"
   ]
  },
  {
   "cell_type": "code",
   "execution_count": 388,
   "metadata": {
    "collapsed": false
   },
   "outputs": [
    {
     "name": "stdout",
     "output_type": "stream",
     "text": [
      "1  4  7  \n",
      "2  5  8  \n",
      "3  6  9  \n",
      "4  7  10  \n"
     ]
    }
   ],
   "source": [
    "C = mat_trans(A)\n",
    "for i in range(4): # Anda sobre as linhas\n",
    "    for j in range(3): # Anda sobre as colunas\n",
    "        print(C[i][j], ' ', end='') # end='' faz com que print não pule uma linha\n",
    "    print() # Imprime nada e pula uma linha "
   ]
  },
  {
   "cell_type": "code",
   "execution_count": 394,
   "metadata": {
    "collapsed": false
   },
   "outputs": [
    {
     "name": "stdout",
     "output_type": "stream",
     "text": [
      "66  78  90  102  \n",
      "78  93  108  123  \n",
      "90  108  126  144  \n",
      "102  123  144  165  \n"
     ]
    }
   ],
   "source": [
    "D = mult_mm(C,A) #aplicamos a função de multiplicação de matrizes\n",
    "for i in range(4):\n",
    "    for j in range(4):\n",
    "        print(D[i][j], ' ', end='')\n",
    "    print()"
   ]
  },
  {
   "cell_type": "markdown",
   "metadata": {},
   "source": [
    "### Resultado esperado\n",
    "\n",
    "O seu código deve imprimir exatamente:\n",
    "\n",
    "    66  78  90  102  \n",
    "    78  93  108  123  \n",
    "    90  108  126  144  \n",
    "    102  123  144  165  \n"
   ]
  },
  {
   "cell_type": "code",
   "execution_count": null,
   "metadata": {
    "collapsed": true
   },
   "outputs": [],
   "source": []
  }
 ],
 "metadata": {
  "anaconda-cloud": {},
  "kernelspec": {
   "display_name": "Python [Root]",
   "language": "python",
   "name": "Python [Root]"
  },
  "language_info": {
   "codemirror_mode": {
    "name": "ipython",
    "version": 3
   },
   "file_extension": ".py",
   "mimetype": "text/x-python",
   "name": "python",
   "nbconvert_exporter": "python",
   "pygments_lexer": "ipython3",
   "version": "3.5.2"
  }
 },
 "nbformat": 4,
 "nbformat_minor": 0
}
